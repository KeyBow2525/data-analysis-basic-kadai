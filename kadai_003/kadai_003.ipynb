{
 "cells": [
  {
   "cell_type": "code",
   "execution_count": 1,
   "metadata": {},
   "outputs": [
    {
     "name": "stdout",
     "output_type": "stream",
     "text": [
      "[[ 4  5  6  7]\n",
      " [12 17 22 27]\n",
      " [20 29 38 47]]\n"
     ]
    },
    {
     "data": {
      "text/plain": [
       "np.int64(47)"
      ]
     },
     "execution_count": 1,
     "metadata": {},
     "output_type": "execute_result"
    }
   ],
   "source": [
    "# numpyをimport。\n",
    "import numpy as np\n",
    "\n",
    "# 行列AとBを作成。\n",
    "A = np.array([[0, 1], [2, 3], [4, 5]])\n",
    "B = np.array([[0, 1, 2, 3], [4, 5, 6, 7]])\n",
    "\n",
    "# AとBの積を求めて出力。\n",
    "C = np.dot(A, B)\n",
    "print(C)\n",
    "\n",
    "# Cの要素の最大値を求める。\n",
    "C.max()"
   ]
  }
 ],
 "metadata": {
  "kernelspec": {
   "display_name": "Python 3",
   "language": "python",
   "name": "python3"
  },
  "language_info": {
   "codemirror_mode": {
    "name": "ipython",
    "version": 3
   },
   "file_extension": ".py",
   "mimetype": "text/x-python",
   "name": "python",
   "nbconvert_exporter": "python",
   "pygments_lexer": "ipython3",
   "version": "3.11.9"
  }
 },
 "nbformat": 4,
 "nbformat_minor": 2
}
