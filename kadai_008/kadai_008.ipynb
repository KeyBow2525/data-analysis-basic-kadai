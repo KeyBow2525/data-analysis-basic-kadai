{
 "cells": [
  {
   "cell_type": "code",
   "execution_count": null,
   "metadata": {},
   "outputs": [],
   "source": [
    "# 必要なライブラリ等をimport。\n",
    "from sklearn.datasets import load_wine\n",
    "import pandas as pd\n",
    "from sklearn.model_selection import train_test_split\n",
    "from sklearn.ensemble import RandomForestClassifier\n",
    "from sklearn.metrics import accuracy_score\n",
    "\n",
    "# インポートしたload_wine関数を実行し，datasetという変数に代入。\n",
    "dataset = load_wine()\n",
    "\n",
    "# dataにワインの成分（dataset.data），colums（列タイトル）に要素名（dataset.feature_names）をセットしてデータフレームを生成。\n",
    "df = pd.DataFrame(data = dataset.data, columns = dataset.feature_names)\n",
    "\n",
    "# ワインの種別について，colums名を「category」としてデータフレームに追加。\n",
    "df['category'] = dataset.target\n",
    "\n",
    "# 説明変数（ワインの成分）を変数Xに，目的変数（ワインの種別）を変数yに代入。\n",
    "X = dataset.data\n",
    "y = dataset.target\n",
    "\n",
    "# Xとyをそれぞれ学習データとテストデータに分割。\n",
    "train_test_split(X, y, test_size = 0.3, random_state = 5)\n",
    "\n",
    "# 「説明変数Xの学習データ」「説明変数Xのテストデータ」「目的変数yの学習データ」「目的変数yのテストデータ」\n",
    "# をそれぞれ，変数X_train, X_test, y_train, y_testに代入。\n",
    "X_train, X_test, y_train, y_test = train_test_split(X, y, test_size = 0.3, random_state = 5)\n",
    "\n",
    "# RandomForestClassifierクラスをインスタンス化して，modelという変数に代入。\n",
    "model = RandomForestClassifier(random_state = 3)\n",
    "\n",
    "# fitメソッドを実行して学習させる。\n",
    "model.fit(X_train, y_train)\n",
    "\n",
    "# predictメソッドを利用して予測値をy_predに代入。\n",
    "y_pred = model.predict(X_test)\n",
    "\n",
    "# accuracy_score関数を実行し，正解率を出力。\n",
    "accuracy_score(y_test, y_pred)\n",
    "\n",
    "\n"
   ]
  }
 ],
 "metadata": {
  "language_info": {
   "name": "python"
  }
 },
 "nbformat": 4,
 "nbformat_minor": 2
}
